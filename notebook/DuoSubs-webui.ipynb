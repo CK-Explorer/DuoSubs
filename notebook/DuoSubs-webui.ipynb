{
  "cells": [
    {
      "cell_type": "markdown",
      "metadata": {
        "id": "lfO1yIv2_zW1"
      },
      "source": [
        "[![Open In Colab](https://colab.research.google.com/assets/colab-badge.svg)](https://colab.research.google.com/CK-Explorer/DuoSubs/blob/notebook/DuoSubs-webui.ipynb)"
      ]
    },
    {
      "cell_type": "markdown",
      "metadata": {
        "id": "p6t53BWV5Iul"
      },
      "source": [
        "## Step 1: Connect to GPU Runtime Instance\n",
        "\n",
        "Click **`Connect T4`** in the \"right hand upper corner\" to start the instance.\n",
        "\n",
        "If the above step is unavailable, then\n",
        "1. From the \"top menu\", click: **`Runtime`** → **`Change runtime type`**\n",
        "\n",
        "2. In the \"Hardware accelerator\", choose **`GPU`**.\n",
        "\n",
        "> [!WARNING]\n",
        "> If you are using **free** instance, please be aware that you have **limited allocated runtime** to use the instance.  \n",
        "\n"
      ]
    },
    {
      "cell_type": "markdown",
      "metadata": {
        "id": "rnVCp0zJ4aSz"
      },
      "source": [
        "## Step 2: Install DuoSubs"
      ]
    },
    {
      "cell_type": "code",
      "execution_count": null,
      "metadata": {
        "id": "uAtsG1oDmEWt"
      },
      "outputs": [],
      "source": [
        "!pip install duosubs"
      ]
    },
    {
      "cell_type": "markdown",
      "metadata": {
        "id": "u75MeNvE4_Ix"
      },
      "source": [
        "## Step 3: Run DuoSubs Web UI"
      ]
    },
    {
      "cell_type": "code",
      "execution_count": null,
      "metadata": {
        "collapsed": true,
        "id": "3vsuKYYUmJ3z"
      },
      "outputs": [],
      "source": [
        "!duosubs launch-webui --share"
      ]
    }
  ],
  "metadata": {
    "accelerator": "GPU",
    "colab": {
      "gpuType": "T4",
      "provenance": []
    },
    "kernelspec": {
      "display_name": "Python 3",
      "name": "python3"
    },
    "language_info": {
      "name": "python"
    }
  },
  "nbformat": 4,
  "nbformat_minor": 0
}
